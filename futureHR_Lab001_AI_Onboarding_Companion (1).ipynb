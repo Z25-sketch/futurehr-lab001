{
  "cells": [
    {
      "cell_type": "markdown",
      "id": "d3fe3ac3",
      "metadata": {
        "id": "d3fe3ac3"
      },
      "source": [
        "# 🧠 futureHR Lab #001: AI Onboarding Companion\n",
        "\n",
        "**Lab Type:** Idea  \n",
        "**Estimated Time:** 30–45 mins  \n",
        "**Skill Level:** Beginner"
      ]
    },
    {
      "cell_type": "code",
      "execution_count": 1,
      "id": "71a582f9",
      "metadata": {
        "colab": {
          "base_uri": "https://localhost:8080/"
        },
        "id": "71a582f9",
        "outputId": "c24d96bd-4c26-403a-8431-0423fd658c4e"
      },
      "outputs": [
        {
          "output_type": "stream",
          "name": "stdout",
          "text": [
            "Welcome to the lab, Zion Chapman!\n"
          ]
        }
      ],
      "source": [
        "# Let's begin by printing your name to personalize the notebook\n",
        "your_name = \"Zion Chapman\"\n",
        "print(f\"Welcome to the lab, {your_name}!\")"
      ]
    },
    {
      "cell_type": "code",
      "source": [],
      "metadata": {
        "id": "eEz4G8j10D9R"
      },
      "id": "eEz4G8j10D9R",
      "execution_count": null,
      "outputs": []
    },
    {
      "cell_type": "markdown",
      "id": "8ac1c5d0",
      "metadata": {
        "id": "8ac1c5d0"
      },
      "source": [
        "## 🔍 STAR Method Lab Prompt\n",
        "\n",
        "**Situation:**  \n",
        "[New hire often face too much information when onboarding. Which caused confusion and missing important times for sumbiting crucial work. This increase the work load for HR. Who spend time with repetition on the same information to lose valuable time.]\n",
        "\n",
        "**Task:**  \n",
        "[Design an AI-powered HR automation solution using Google tools (Gmail, Docs, Chat, Calendar) to share accessable system that can  identify a particular person, and automate the new hire onboarding process. Therefore reducing information thereby reducing information burden on new hire and HR.]\n",
        "\n",
        "**Action:**  \n",
        "[I will design \"OnboardFlow AI,\" a solution leveraging Google Workspace.A new hire is aproved, HR with do a google form.Google Apps Script is important to note that it should monitor the  sheet for new entries. Based on the new hire's department or role, the script will trigger specific onboarding workflows and simulate AI behavior by flagging emails with keywords like \"confused\" or \"help\" for HR attention, and potentially sending automated responses. Gmail  will send containing checklists of tasks with direct links and embedded Google Forms for data collection.\n",
        "\n",
        "A \"New Hire Onboarding Portal\" Google Doc will be created for each new hire, dynamically populated by Apps Script, serving as their central hub for all onboarding information and a live checklist of tasks. Google Calendar will be used to send important meeting invite included but not limit to team meeting, manager meeting and orientation with automated reminders. Finally, Google Chat will be used to automatically add new hires to a chat tsupport space.\n",
        "\n",
        "**Expected Result:**  \n",
        "[The expected outcome is a more direct personalized way and less overwhelming  experience for new hires, leading to better result. For HR, this solution will reduce manual administrative tasks, allowing them to focus on strategic initiatives. It will improve compliance by systematically tracking document completion and provide data-driven insights for future improvements.]"
      ]
    },
    {
      "cell_type": "markdown",
      "id": "5982a6f1",
      "metadata": {
        "id": "5982a6f1"
      },
      "source": [
        "## ✍️ Your Assignment\n",
        "\n",
        "_Use this section to complete your deliverable:_\n",
        "\n",
        "`Company Type: Any company experiencing growth, leading to frequent new hires.\n",
        "\n",
        "AI Assistant Name: \"OnboardFlow AI\"\n",
        "\n",
        "Main Channels: Gmail, Google Chat, Google Calendar, Google docs, Google sheet, Google Forms, Google Apps Script.\n",
        "\n",
        "Actions Taken:\n",
        "\n",
        "HR fills out a Google Form upon new hire confirmation, populating a Google Sheet.\n",
        "\n",
        "Google Apps Script monitors the Google Sheet for new entries.\n",
        "\n",
        "Apps Script sends personalized welcome emails via Gmail with links to dynamically generated Google Docs (offer letter, handbook, benefits).\n",
        "\n",
        "Emails include checklists of tasks with direct links.\n",
        "\n",
        "A basic Apps Script chatbot in Google Chat answers FAQs and escalates complex queries to HR.\n",
        "\n",
        "Simulated AI (via Apps Script keyword detection) flags urgent new hire emails for HR.\n",
        "\n",
        "Expected Outcome:\n",
        "\n",
        "Reduced new hire information overload and confusion.\n",
        "\n",
        "Significant reduction in HR's manual administrative tasks and follow-ups.\n",
        "\n",
        "Improved document completion and tracking.\n",
        "\n",
        "Better data for continuous improvement of the onboarding process."
      ]
    }
  ],
  "metadata": {
    "colab": {
      "provenance": []
    },
    "language_info": {
      "name": "python"
    },
    "kernelspec": {
      "name": "python3",
      "display_name": "Python 3"
    }
  },
  "nbformat": 4,
  "nbformat_minor": 5
}