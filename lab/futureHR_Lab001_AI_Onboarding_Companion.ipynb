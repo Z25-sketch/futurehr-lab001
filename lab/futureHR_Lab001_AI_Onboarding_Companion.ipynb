{
 "cells": [
  {
   "cell_type": "markdown",
   "id": "d3fe3ac3",
   "metadata": {},
   "source": [
    "# 🧠 futureHR Lab #001: AI Onboarding Companion\n",
    "\n",
    "**Lab Type:** Idea  \n",
    "**Estimated Time:** 30–45 mins  \n",
    "**Skill Level:** Beginner"
   ]
  },
  {
   "cell_type": "code",
   "execution_count": null,
   "id": "71a582f9",
   "metadata": {},
   "outputs": [],
   "source": [
    "# Let's begin by printing your name to personalize the notebook\n",
    "your_name = \"\"\n",
    "print(f\"Welcome to the lab, {your_name}!\")"
   ]
  },
  {
   "cell_type": "markdown",
   "id": "8ac1c5d0",
   "metadata": {},
   "source": [
    "## 🔍 STAR Method Lab Prompt\n",
    "\n",
    "**Situation:**  \n",
    "[Define your scenario here.]\n",
    "\n",
    "**Task:**  \n",
    "[What challenge are you solving in HR?]\n",
    "\n",
    "**Action:**  \n",
    "[Which Google tools will you use? How will Gemini help?]\n",
    "\n",
    "**Expected Result:**  \n",
    "[A clear deliverable or outcome to include in your portfolio.]"
   ]
  },
  {
   "cell_type": "markdown",
   "id": "5982a6f1",
   "metadata": {},
   "source": [
    "## ✍️ Your Assignment\n",
    "\n",
    "_Use this section to complete your deliverable:_\n",
    "\n",
    "```markdown\n",
    "(Example Format)\n",
    "\n",
    "- **Company Type**: Financial services  \n",
    "- **AI Assistant Name**: \"StartSmart Bot\"  \n",
    "- **Main Channels**: Gmail, Google Chat, Docs  \n",
    "- **Actions Taken**:  \n",
    "   - Auto-sends welcome email  \n",
    "   - Links to company handbook  \n",
    "   - Answers FAQ via Gemini  \n",
    "   - Schedules intro meeting  \n",
    "- **Expected Outcome**:  \n",
    "   - Reduced onboarding confusion  \n",
    "   - 50% fewer HR help requests  \n",
    "```"
   ]
  }
 ],
 "metadata": {},
 "nbformat": 4,
 "nbformat_minor": 5
}
